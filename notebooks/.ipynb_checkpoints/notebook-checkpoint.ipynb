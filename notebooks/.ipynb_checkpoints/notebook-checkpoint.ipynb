{
 "cells": [
  {
   "cell_type": "code",
   "execution_count": 1,
   "metadata": {},
   "outputs": [
    {
     "data": {
      "text/plain": [
       "['Tapas',\n",
       " 'Halloumi, bataty, brokolica',\n",
       " 'Zemiaky s bryndzou',\n",
       " 'Losos, špargľa, zemiaky',\n",
       " 'Kapustnica',\n",
       " 'Cesnačka',\n",
       " 'Rezne',\n",
       " 'Pulled pork',\n",
       " 'Špagety s pestom',\n",
       " 'Pečené kura s hráškom a ryžou',\n",
       " 'Nachos so syrom a guacamole',\n",
       " 'Katsu curry',\n",
       " 'Hovädzia polievka a la ramen',\n",
       " 'Pečené bataty s cesnakovým dipom',\n",
       " 'Tekvicové curry',\n",
       " 'Halušky',\n",
       " 'Sunday roast',\n",
       " 'Hubové rizoto',\n",
       " 'Guláš',\n",
       " 'Fajitas',\n",
       " 'Beef chilli',\n",
       " 'Focaccia',\n",
       " 'Panenka s cesnakom',\n",
       " 'Rajčiny s mozzarelou',\n",
       " 'Guacamole',\n",
       " 'Palacinky',\n",
       " 'Palacinky z vločiek',\n",
       " 'Ovsená kasa',\n",
       " 'Šalát',\n",
       " 'Vajíčka',\n",
       " 'Omeleta',\n",
       " 'Quiche']"
      ]
     },
     "execution_count": 1,
     "metadata": {},
     "output_type": "execute_result"
    }
   ],
   "source": [
    "import unidecode\n",
    "unaccented_string = unidecode.unidecode(accented_string)\n",
    "\n",
    "titles = []\n",
    "with open('input.txt', 'r') as f:\n",
    "    for line in f:\n",
    "        titles.append(line.strip())\n",
    "\n",
    "slugs = []\n"
   ]
  },
  {
   "cell_type": "code",
   "execution_count": null,
   "metadata": {},
   "outputs": [],
   "source": []
  }
 ],
 "metadata": {
  "kernelspec": {
   "display_name": "Python 3",
   "language": "python",
   "name": "python3"
  },
  "language_info": {
   "codemirror_mode": {
    "name": "ipython",
    "version": 3
   },
   "file_extension": ".py",
   "mimetype": "text/x-python",
   "name": "python",
   "nbconvert_exporter": "python",
   "pygments_lexer": "ipython3",
   "version": "3.9.2"
  }
 },
 "nbformat": 4,
 "nbformat_minor": 2
}
