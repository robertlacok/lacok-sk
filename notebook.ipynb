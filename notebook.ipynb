{
 "cells": [
  {
   "cell_type": "code",
   "execution_count": 9,
   "metadata": {},
   "outputs": [],
   "source": [
    "import unidecode\n",
    "\n",
    "titles = []\n",
    "with open('notebooks/input.txt', 'r') as f:\n",
    "    for line in f:\n",
    "        titles.append(line.strip())\n",
    "\n",
    "slugs = [unidecode.unidecode(t.lower().replace(' ', '-').replace(',','')) for t in titles]\n",
    "slugs\n",
    "\n",
    "template = \"\"\"---\n",
    "title: {}\n",
    "slug: {}\n",
    "description: \n",
    "image: \n",
    "---\n",
    "\n",
    "\"\"\"\n",
    "\n",
    "for i in range(len(titles)):\n",
    "    title = titles[i]\n",
    "    slug = slugs[i]\n",
    "    with open(f'src/routes/recipes/{slug}.md', 'w') as f:\n",
    "        f.write(template.format(title, slug))\n",
    "    \n"
   ]
  },
  {
   "cell_type": "code",
   "execution_count": 3,
   "metadata": {},
   "outputs": [
    {
     "name": "stdout",
     "output_type": "stream",
     "text": [
      "Collecting unidecode\n",
      "  Downloading Unidecode-1.2.0-py2.py3-none-any.whl (241 kB)\n",
      "\u001b[K     |████████████████████████████████| 241 kB 2.9 MB/s eta 0:00:01\n",
      "\u001b[?25hInstalling collected packages: unidecode\n",
      "Successfully installed unidecode-1.2.0\n",
      "\u001b[33mWARNING: You are using pip version 21.1.1; however, version 21.1.2 is available.\n",
      "You should consider upgrading via the '/Users/roberto/.pyenv/versions/3.9.2/bin/python3.9 -m pip install --upgrade pip' command.\u001b[0m\n"
     ]
    }
   ],
   "source": [
    "! pip install unidecode"
   ]
  },
  {
   "cell_type": "code",
   "execution_count": null,
   "metadata": {},
   "outputs": [],
   "source": []
  }
 ],
 "metadata": {
  "kernelspec": {
   "display_name": "Python 3",
   "language": "python",
   "name": "python3"
  },
  "language_info": {
   "codemirror_mode": {
    "name": "ipython",
    "version": 3
   },
   "file_extension": ".py",
   "mimetype": "text/x-python",
   "name": "python",
   "nbconvert_exporter": "python",
   "pygments_lexer": "ipython3",
   "version": "3.9.2"
  }
 },
 "nbformat": 4,
 "nbformat_minor": 2
}
